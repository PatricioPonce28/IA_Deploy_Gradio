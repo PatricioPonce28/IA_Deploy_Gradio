{
 "cells": [
  {
   "cell_type": "markdown",
   "id": "94d96854",
   "metadata": {},
   "source": [
    "# Entrenamiento y Empaquetado de un Modelo de Machine Learning para Predicción de Matrícula"
   ]
  },
  {
   "cell_type": "markdown",
   "id": "d7378398",
   "metadata": {},
   "source": [
    "## Paso 1: Cargar y explorar los datos"
   ]
  },
  {
   "cell_type": "code",
   "execution_count": 16,
   "id": "58398a04",
   "metadata": {},
   "outputs": [
    {
     "data": {
      "text/html": [
       "<div>\n",
       "<style scoped>\n",
       "    .dataframe tbody tr th:only-of-type {\n",
       "        vertical-align: middle;\n",
       "    }\n",
       "\n",
       "    .dataframe tbody tr th {\n",
       "        vertical-align: top;\n",
       "    }\n",
       "\n",
       "    .dataframe thead th {\n",
       "        text-align: right;\n",
       "    }\n",
       "</style>\n",
       "<table border=\"1\" class=\"dataframe\">\n",
       "  <thead>\n",
       "    <tr style=\"text-align: right;\">\n",
       "      <th></th>\n",
       "      <th>edad</th>\n",
       "      <th>genero</th>\n",
       "      <th>nivel_educativo</th>\n",
       "      <th>ingresos_mensuales</th>\n",
       "      <th>ocupacion</th>\n",
       "      <th>interes_tema</th>\n",
       "      <th>uso_tecnologia</th>\n",
       "      <th>horas_disponibles</th>\n",
       "      <th>promociones_recibidas</th>\n",
       "      <th>matricula</th>\n",
       "    </tr>\n",
       "  </thead>\n",
       "  <tbody>\n",
       "    <tr>\n",
       "      <th>0</th>\n",
       "      <td>56</td>\n",
       "      <td>M</td>\n",
       "      <td>Universitario</td>\n",
       "      <td>995.0</td>\n",
       "      <td>Desempleado</td>\n",
       "      <td>2</td>\n",
       "      <td>4</td>\n",
       "      <td>0</td>\n",
       "      <td>1</td>\n",
       "      <td>0</td>\n",
       "    </tr>\n",
       "    <tr>\n",
       "      <th>1</th>\n",
       "      <td>46</td>\n",
       "      <td>M</td>\n",
       "      <td>Universitario</td>\n",
       "      <td>2172.0</td>\n",
       "      <td>Independiente</td>\n",
       "      <td>1</td>\n",
       "      <td>5</td>\n",
       "      <td>17</td>\n",
       "      <td>0</td>\n",
       "      <td>0</td>\n",
       "    </tr>\n",
       "    <tr>\n",
       "      <th>2</th>\n",
       "      <td>32</td>\n",
       "      <td>F</td>\n",
       "      <td>Universitario</td>\n",
       "      <td>797.0</td>\n",
       "      <td>Independiente</td>\n",
       "      <td>4</td>\n",
       "      <td>2</td>\n",
       "      <td>19</td>\n",
       "      <td>1</td>\n",
       "      <td>0</td>\n",
       "    </tr>\n",
       "    <tr>\n",
       "      <th>3</th>\n",
       "      <td>60</td>\n",
       "      <td>F</td>\n",
       "      <td>Postgrado</td>\n",
       "      <td>2034.0</td>\n",
       "      <td>Independiente</td>\n",
       "      <td>5</td>\n",
       "      <td>5</td>\n",
       "      <td>5</td>\n",
       "      <td>1</td>\n",
       "      <td>1</td>\n",
       "    </tr>\n",
       "    <tr>\n",
       "      <th>4</th>\n",
       "      <td>25</td>\n",
       "      <td>M</td>\n",
       "      <td>Universitario</td>\n",
       "      <td>872.0</td>\n",
       "      <td>Empleado</td>\n",
       "      <td>2</td>\n",
       "      <td>2</td>\n",
       "      <td>19</td>\n",
       "      <td>1</td>\n",
       "      <td>0</td>\n",
       "    </tr>\n",
       "  </tbody>\n",
       "</table>\n",
       "</div>"
      ],
      "text/plain": [
       "   edad genero nivel_educativo  ingresos_mensuales      ocupacion  \\\n",
       "0    56      M   Universitario               995.0    Desempleado   \n",
       "1    46      M   Universitario              2172.0  Independiente   \n",
       "2    32      F   Universitario               797.0  Independiente   \n",
       "3    60      F       Postgrado              2034.0  Independiente   \n",
       "4    25      M   Universitario               872.0       Empleado   \n",
       "\n",
       "   interes_tema  uso_tecnologia  horas_disponibles  promociones_recibidas  \\\n",
       "0             2               4                  0                      1   \n",
       "1             1               5                 17                      0   \n",
       "2             4               2                 19                      1   \n",
       "3             5               5                  5                      1   \n",
       "4             2               2                 19                      1   \n",
       "\n",
       "   matricula  \n",
       "0          0  \n",
       "1          0  \n",
       "2          0  \n",
       "3          1  \n",
       "4          0  "
      ]
     },
     "execution_count": 16,
     "metadata": {},
     "output_type": "execute_result"
    }
   ],
   "source": [
    "import pandas as pd\n",
    "\n",
    "# Cargar dataset\n",
    "df = pd.read_csv(\"cursos_matricula.csv\")\n",
    "\n",
    "# Mostrar primeras filas\n",
    "df.head()"
   ]
  },
  {
   "cell_type": "markdown",
   "id": "b6ee4d99",
   "metadata": {},
   "source": [
    "## Paso 2: Codificar variables categóricas"
   ]
  },
  {
   "cell_type": "code",
   "execution_count": 17,
   "id": "f762fb38",
   "metadata": {},
   "outputs": [
    {
     "data": {
      "text/html": [
       "<div>\n",
       "<style scoped>\n",
       "    .dataframe tbody tr th:only-of-type {\n",
       "        vertical-align: middle;\n",
       "    }\n",
       "\n",
       "    .dataframe tbody tr th {\n",
       "        vertical-align: top;\n",
       "    }\n",
       "\n",
       "    .dataframe thead th {\n",
       "        text-align: right;\n",
       "    }\n",
       "</style>\n",
       "<table border=\"1\" class=\"dataframe\">\n",
       "  <thead>\n",
       "    <tr style=\"text-align: right;\">\n",
       "      <th></th>\n",
       "      <th>edad</th>\n",
       "      <th>genero</th>\n",
       "      <th>nivel_educativo</th>\n",
       "      <th>ingresos_mensuales</th>\n",
       "      <th>ocupacion</th>\n",
       "      <th>interes_tema</th>\n",
       "      <th>uso_tecnologia</th>\n",
       "      <th>horas_disponibles</th>\n",
       "      <th>promociones_recibidas</th>\n",
       "      <th>matricula</th>\n",
       "    </tr>\n",
       "  </thead>\n",
       "  <tbody>\n",
       "    <tr>\n",
       "      <th>0</th>\n",
       "      <td>56</td>\n",
       "      <td>1</td>\n",
       "      <td>4</td>\n",
       "      <td>995.0</td>\n",
       "      <td>0</td>\n",
       "      <td>2</td>\n",
       "      <td>4</td>\n",
       "      <td>0</td>\n",
       "      <td>1</td>\n",
       "      <td>0</td>\n",
       "    </tr>\n",
       "    <tr>\n",
       "      <th>1</th>\n",
       "      <td>46</td>\n",
       "      <td>1</td>\n",
       "      <td>4</td>\n",
       "      <td>2172.0</td>\n",
       "      <td>3</td>\n",
       "      <td>1</td>\n",
       "      <td>5</td>\n",
       "      <td>17</td>\n",
       "      <td>0</td>\n",
       "      <td>0</td>\n",
       "    </tr>\n",
       "    <tr>\n",
       "      <th>2</th>\n",
       "      <td>32</td>\n",
       "      <td>0</td>\n",
       "      <td>4</td>\n",
       "      <td>797.0</td>\n",
       "      <td>3</td>\n",
       "      <td>4</td>\n",
       "      <td>2</td>\n",
       "      <td>19</td>\n",
       "      <td>1</td>\n",
       "      <td>0</td>\n",
       "    </tr>\n",
       "    <tr>\n",
       "      <th>3</th>\n",
       "      <td>60</td>\n",
       "      <td>0</td>\n",
       "      <td>0</td>\n",
       "      <td>2034.0</td>\n",
       "      <td>3</td>\n",
       "      <td>5</td>\n",
       "      <td>5</td>\n",
       "      <td>5</td>\n",
       "      <td>1</td>\n",
       "      <td>1</td>\n",
       "    </tr>\n",
       "    <tr>\n",
       "      <th>4</th>\n",
       "      <td>25</td>\n",
       "      <td>1</td>\n",
       "      <td>4</td>\n",
       "      <td>872.0</td>\n",
       "      <td>1</td>\n",
       "      <td>2</td>\n",
       "      <td>2</td>\n",
       "      <td>19</td>\n",
       "      <td>1</td>\n",
       "      <td>0</td>\n",
       "    </tr>\n",
       "  </tbody>\n",
       "</table>\n",
       "</div>"
      ],
      "text/plain": [
       "   edad  genero  nivel_educativo  ingresos_mensuales  ocupacion  interes_tema  \\\n",
       "0    56       1                4               995.0          0             2   \n",
       "1    46       1                4              2172.0          3             1   \n",
       "2    32       0                4               797.0          3             4   \n",
       "3    60       0                0              2034.0          3             5   \n",
       "4    25       1                4               872.0          1             2   \n",
       "\n",
       "   uso_tecnologia  horas_disponibles  promociones_recibidas  matricula  \n",
       "0               4                  0                      1          0  \n",
       "1               5                 17                      0          0  \n",
       "2               2                 19                      1          0  \n",
       "3               5                  5                      1          1  \n",
       "4               2                 19                      1          0  "
      ]
     },
     "execution_count": 17,
     "metadata": {},
     "output_type": "execute_result"
    }
   ],
   "source": [
    "from sklearn.preprocessing import LabelEncoder\n",
    "\n",
    "# Copia del dataframe para entrenamiento\n",
    "df_modelo = df.copy()\n",
    "\n",
    "# Codificación\n",
    "encoders = {}\n",
    "for col in ['genero', 'nivel_educativo', 'ocupacion']:\n",
    "    le = LabelEncoder()\n",
    "    df_modelo[col] = le.fit_transform(df_modelo[col])\n",
    "    encoders[col] = le\n",
    "\n",
    "# Mostrar datos codificados\n",
    "df_modelo.head()"
   ]
  },
  {
   "cell_type": "markdown",
   "id": "8e35ac25",
   "metadata": {},
   "source": [
    "## Paso 3: Separar variables predictoras (X) y variable objetivo (y)"
   ]
  },
  {
   "cell_type": "code",
   "execution_count": 18,
   "id": "7fcd4382",
   "metadata": {},
   "outputs": [
    {
     "name": "stdout",
     "output_type": "stream",
     "text": [
      "Columnas predictoras (X): ['edad', 'genero', 'nivel_educativo', 'ingresos_mensuales', 'ocupacion', 'interes_tema', 'uso_tecnologia', 'horas_disponibles', 'promociones_recibidas']\n",
      "Variable objetivo (y): matricula\n"
     ]
    }
   ],
   "source": [
    "X = df_modelo.drop(columns=['matricula'])\n",
    "y = df_modelo['matricula']\n",
    "\n",
    "print(\"Columnas predictoras (X):\", list(X.columns))\n",
    "print(\"Variable objetivo (y): matricula\")"
   ]
  },
  {
   "cell_type": "markdown",
   "id": "ed80f05f",
   "metadata": {},
   "source": [
    "## Paso 4: Entrenar el modelo"
   ]
  },
  {
   "cell_type": "code",
   "execution_count": 19,
   "id": "23ee2e8b",
   "metadata": {},
   "outputs": [
    {
     "name": "stdout",
     "output_type": "stream",
     "text": [
      "RandomForestClassifier(random_state=42)\n",
      "Importancia de las variables: [0.0270444  0.00583298 0.06948657 0.03049507 0.00976301 0.30957637\n",
      " 0.19252829 0.16575917 0.18951415]\n"
     ]
    }
   ],
   "source": [
    "from sklearn.ensemble import RandomForestClassifier\n",
    "from sklearn.model_selection import train_test_split\n",
    "\n",
    "# Separar en entrenamiento y prueba\n",
    "X_train, X_test, y_train, y_test = train_test_split(X, y, test_size=0.2, random_state=42)\n",
    "\n",
    "# Entrenar el modelo\n",
    "modelo = RandomForestClassifier(random_state=42)\n",
    "modelo.fit(X_train, y_train)\n",
    "\n",
    "# Ver resumen del modelo\n",
    "print(modelo)\n",
    "print(\"Importancia de las variables:\", modelo.feature_importances_)"
   ]
  },
  {
   "cell_type": "markdown",
   "id": "8da3c75d",
   "metadata": {},
   "source": [
    "## Paso 5: Guardar el modelo entrenado y los codificadores"
   ]
  },
  {
   "cell_type": "code",
   "execution_count": 20,
   "id": "d7170c1b",
   "metadata": {},
   "outputs": [
    {
     "name": "stdout",
     "output_type": "stream",
     "text": [
      "✅ Modelo y encoders guardados exitosamente.\n"
     ]
    }
   ],
   "source": [
    "import joblib\n",
    "\n",
    "# Guardar modelo\n",
    "joblib.dump(modelo, \"modelo_entrenado.pkl\")\n",
    "\n",
    "# Guardar codificadores\n",
    "joblib.dump(encoders, \"encoders.pkl\")\n",
    "\n",
    "print(\"✅ Modelo y encoders guardados exitosamente.\")"
   ]
  },
  {
   "cell_type": "markdown",
   "id": "782b33f9",
   "metadata": {},
   "source": [
    "## Paso 6: ¿Qué se hace luego?"
   ]
  },
  {
   "cell_type": "markdown",
   "id": "020ce415",
   "metadata": {},
   "source": [
    "Este modelo ya ha aprendido cómo predecir, pero…\n",
    "Solo vive en la memoria de Python!\n",
    "\n",
    "Con el modelo entrenado y guardado:\n",
    "- Puedes cargarlo en una app Flask para hacer predicciones en tiempo real.\n",
    "- No necesitas el archivo .csv para hacer predicciones, solo los `.pkl`.\n",
    "- Puedes compartir el modelo con otros sin necesidad de compartir tu código de entrenamiento.\n",
    "\n",
    "Para usarlo:\n",
    "\n",
    "```python\n",
    "import joblib\n",
    "modelo = joblib.load(\"modelo_entrenado.pkl\")\n",
    "encoders = joblib.load(\"encoders.pkl\")\n",
    "```\n"
   ]
  },
  {
   "cell_type": "markdown",
   "id": "af5641d7",
   "metadata": {},
   "source": [
    "## Paso 7: Evaluación del modelo con métricas"
   ]
  },
  {
   "cell_type": "code",
   "execution_count": 21,
   "id": "311c5c4c",
   "metadata": {},
   "outputs": [
    {
     "name": "stdout",
     "output_type": "stream",
     "text": [
      "Matriz de confusión:\n",
      "[[542   0]\n",
      " [  0  58]]\n",
      "\n",
      "Reporte de clasificación:\n",
      "              precision    recall  f1-score   support\n",
      "\n",
      "           0       1.00      1.00      1.00       542\n",
      "           1       1.00      1.00      1.00        58\n",
      "\n",
      "    accuracy                           1.00       600\n",
      "   macro avg       1.00      1.00      1.00       600\n",
      "weighted avg       1.00      1.00      1.00       600\n",
      "\n",
      "Accuracy: 1.0\n",
      "Precision: 1.0\n",
      "Recall: 1.0\n",
      "F1 Score: 1.0\n"
     ]
    }
   ],
   "source": [
    "from sklearn.metrics import accuracy_score, precision_score, recall_score, f1_score, confusion_matrix, classification_report\n",
    "\n",
    "# Predicciones\n",
    "y_pred = modelo.predict(X_test)\n",
    "\n",
    "# Métricas\n",
    "print(\"Matriz de confusión:\")\n",
    "print(confusion_matrix(y_test, y_pred))\n",
    "\n",
    "print(\"\\nReporte de clasificación:\")\n",
    "print(classification_report(y_test, y_pred))\n",
    "\n",
    "print(\"Accuracy:\", accuracy_score(y_test, y_pred))\n",
    "print(\"Precision:\", precision_score(y_test, y_pred))\n",
    "print(\"Recall:\", recall_score(y_test, y_pred))\n",
    "print(\"F1 Score:\", f1_score(y_test, y_pred))\n"
   ]
  },
  {
   "cell_type": "markdown",
   "id": "dd968415",
   "metadata": {},
   "source": [
    "## Paso 8: Comparar múltiples modelos de clasificación"
   ]
  },
  {
   "cell_type": "code",
   "execution_count": 22,
   "id": "f2343927",
   "metadata": {},
   "outputs": [
    {
     "name": "stdout",
     "output_type": "stream",
     "text": [
      "RandomForest: Accuracy=1.0000, F1 Score=1.0000\n",
      "LogisticRegression: Accuracy=0.9450, F1 Score=0.6796\n",
      "DecisionTree: Accuracy=1.0000, F1 Score=1.0000\n",
      "SVM: Accuracy=0.9033, F1 Score=0.0000\n"
     ]
    },
    {
     "name": "stderr",
     "output_type": "stream",
     "text": [
      "c:\\Users\\Windows\\AppData\\Local\\Programs\\Python\\Python312\\Lib\\site-packages\\sklearn\\linear_model\\_logistic.py:465: ConvergenceWarning: lbfgs failed to converge (status=1):\n",
      "STOP: TOTAL NO. OF ITERATIONS REACHED LIMIT.\n",
      "\n",
      "Increase the number of iterations (max_iter) or scale the data as shown in:\n",
      "    https://scikit-learn.org/stable/modules/preprocessing.html\n",
      "Please also refer to the documentation for alternative solver options:\n",
      "    https://scikit-learn.org/stable/modules/linear_model.html#logistic-regression\n",
      "  n_iter_i = _check_optimize_result(\n"
     ]
    }
   ],
   "source": [
    "from sklearn.linear_model import LogisticRegression\n",
    "from sklearn.tree import DecisionTreeClassifier\n",
    "from sklearn.svm import SVC\n",
    "\n",
    "# Lista de modelos\n",
    "modelos = {\n",
    "    'RandomForest': RandomForestClassifier(random_state=42),\n",
    "    'LogisticRegression': LogisticRegression(max_iter=1000),\n",
    "    'DecisionTree': DecisionTreeClassifier(),\n",
    "    'SVM': SVC()\n",
    "}\n",
    "\n",
    "# Evaluar cada modelo\n",
    "for nombre, modelo_clasificador in modelos.items():\n",
    "    modelo_clasificador.fit(X_train, y_train)\n",
    "    pred = modelo_clasificador.predict(X_test)\n",
    "    acc = accuracy_score(y_test, pred)\n",
    "    f1 = f1_score(y_test, pred)\n",
    "    print(f\"{nombre}: Accuracy={acc:.4f}, F1 Score={f1:.4f}\")\n"
   ]
  },
  {
   "cell_type": "markdown",
   "id": "c5409f29",
   "metadata": {},
   "source": [
    "## Paso 9: Explicación de métricas, épocas y desbalanceo de clases"
   ]
  },
  {
   "cell_type": "markdown",
   "id": "5a9a4c54",
   "metadata": {},
   "source": [
    "### 📊 ¿Qué métricas se usan para comparar modelos?\n",
    "\n",
    "| Métrica     | ¿Cuándo usarla? |\n",
    "|-------------|-----------------|\n",
    "| Accuracy    | Si las clases están balanceadas |\n",
    "| Precision   | Si es más importante evitar falsos positivos |\n",
    "| Recall      | Si es más importante evitar falsos negativos |\n",
    "| F1-score    | Si necesitas equilibrio entre precision y recall |\n",
    "| AUC-ROC     | Para comparar clasificación probabilística en todos los umbrales |\n",
    "\n",
    "Estas métricas se aplican **siempre sobre los datos de prueba (`X_test`, `y_test`)**, nunca sobre los datos de entrenamiento.\n",
    "\n",
    "```python\n",
    "from sklearn.metrics import classification_report\n",
    "\n",
    "print(classification_report(y_test, y_pred))\n",
    "```\n"
   ]
  },
  {
   "cell_type": "markdown",
   "id": "2a9fbe62",
   "metadata": {},
   "source": [
    "### 🔁 ¿Qué son las épocas de entrenamiento?\n",
    "\n",
    "Una **época** es una pasada completa del modelo sobre todos los datos de entrenamiento.\n",
    "\n",
    "- Se usa principalmente en **redes neuronales** y modelos que aprenden de manera progresiva (como `SGDClassifier`, `MLPClassifier`, etc.).\n",
    "- En modelos como RandomForest, LogisticRegression, o DecisionTree **no se usan épocas directamente**.\n",
    "\n",
    "```python\n",
    "# Ejemplo con redes neuronales\n",
    "from sklearn.neural_network import MLPClassifier\n",
    "modelo = MLPClassifier(max_iter=100)  # 100 épocas\n",
    "```\n"
   ]
  },
  {
   "cell_type": "code",
   "execution_count": 23,
   "id": "4cb76802",
   "metadata": {},
   "outputs": [],
   "source": [
    "# Ejemplo con redes neuronales\n",
    "from sklearn.neural_network import MLPClassifier\n",
    "modelo = MLPClassifier(max_iter=100)  # 100 épocas"
   ]
  },
  {
   "cell_type": "markdown",
   "id": "572952c0",
   "metadata": {},
   "source": [
    "### ⚠️ ¿Qué es el desbalanceo de clases?\n",
    "\n",
    "Ocurre cuando una clase aparece mucho más que otra. Por ejemplo:\n",
    "\n",
    "```python\n",
    "df['matricula'].value_counts(normalize=True)\n",
    "```\n",
    "\n",
    "Si ves algo como:\n",
    "\n",
    "```\n",
    "0    0.90\n",
    "1    0.10\n",
    "```\n",
    "\n",
    "Eso significa que el modelo puede predecir siempre \"0\" y tener 90% de accuracy, sin aprender nada útil.\n",
    "\n",
    "### ¿Cómo manejarlo?\n",
    "- Usa métricas como **Recall** o **F1-Score**.\n",
    "- Aplica técnicas como:\n",
    "  - `class_weight='balanced'` en algunos modelos\n",
    "  - `SMOTE` para sobremuestrear la clase minoritaria\n",
    "  - Submuestreo de la clase mayoritaria\n",
    "\n",
    "```python\n",
    "from sklearn.linear_model import LogisticRegression\n",
    "model = LogisticRegression(class_weight='balanced')\n",
    "```\n"
   ]
  },
  {
   "cell_type": "code",
   "execution_count": 30,
   "id": "2aea89bf",
   "metadata": {},
   "outputs": [
    {
     "data": {
      "text/plain": [
       "matricula\n",
       "0    0.902333\n",
       "1    0.097667\n",
       "Name: proportion, dtype: float64"
      ]
     },
     "execution_count": 30,
     "metadata": {},
     "output_type": "execute_result"
    }
   ],
   "source": [
    "df['matricula'].value_counts(normalize=True)"
   ]
  },
  {
   "cell_type": "code",
   "execution_count": 36,
   "id": "f1efeb80",
   "metadata": {},
   "outputs": [],
   "source": [
    "from sklearn.linear_model import LogisticRegression\n",
    "model = LogisticRegression(class_weight='balanced')"
   ]
  },
  {
   "cell_type": "code",
   "execution_count": 2,
   "id": "8059e19f",
   "metadata": {},
   "outputs": [
    {
     "name": "stdout",
     "output_type": "stream",
     "text": [
      "Collecting gradio\n",
      "  Using cached gradio-5.32.1-py3-none-any.whl.metadata (16 kB)\n",
      "Collecting aiofiles<25.0,>=22.0 (from gradio)\n",
      "  Using cached aiofiles-24.1.0-py3-none-any.whl.metadata (10 kB)\n",
      "Requirement already satisfied: anyio<5.0,>=3.0 in c:\\users\\windows\\appdata\\local\\programs\\python\\python312\\lib\\site-packages (from gradio) (4.6.0)\n",
      "Collecting fastapi<1.0,>=0.115.2 (from gradio)\n",
      "  Using cached fastapi-0.115.12-py3-none-any.whl.metadata (27 kB)\n",
      "Collecting ffmpy (from gradio)\n",
      "  Using cached ffmpy-0.6.0-py3-none-any.whl.metadata (2.9 kB)\n",
      "Collecting gradio-client==1.10.2 (from gradio)\n",
      "  Using cached gradio_client-1.10.2-py3-none-any.whl.metadata (7.1 kB)\n",
      "Collecting groovy~=0.1 (from gradio)\n",
      "  Using cached groovy-0.1.2-py3-none-any.whl.metadata (6.1 kB)\n",
      "Requirement already satisfied: httpx>=0.24.1 in c:\\users\\windows\\appdata\\local\\programs\\python\\python312\\lib\\site-packages (from gradio) (0.27.2)\n",
      "Collecting huggingface-hub>=0.28.1 (from gradio)\n",
      "  Using cached huggingface_hub-0.32.3-py3-none-any.whl.metadata (14 kB)\n",
      "Requirement already satisfied: jinja2<4.0 in c:\\users\\windows\\appdata\\local\\programs\\python\\python312\\lib\\site-packages (from gradio) (3.1.4)\n",
      "Requirement already satisfied: markupsafe<4.0,>=2.0 in c:\\users\\windows\\appdata\\local\\programs\\python\\python312\\lib\\site-packages (from gradio) (2.1.5)\n",
      "Requirement already satisfied: numpy<3.0,>=1.0 in c:\\users\\windows\\appdata\\local\\programs\\python\\python312\\lib\\site-packages (from gradio) (2.1.2)\n",
      "Collecting orjson~=3.0 (from gradio)\n",
      "  Downloading orjson-3.10.18-cp312-cp312-win_amd64.whl.metadata (43 kB)\n",
      "Requirement already satisfied: packaging in c:\\users\\windows\\appdata\\local\\programs\\python\\python312\\lib\\site-packages (from gradio) (24.1)\n",
      "Requirement already satisfied: pandas<3.0,>=1.0 in c:\\users\\windows\\appdata\\local\\programs\\python\\python312\\lib\\site-packages (from gradio) (2.2.3)\n",
      "Requirement already satisfied: pillow<12.0,>=8.0 in c:\\users\\windows\\appdata\\local\\programs\\python\\python312\\lib\\site-packages (from gradio) (10.4.0)\n",
      "Collecting pydantic<2.12,>=2.0 (from gradio)\n",
      "  Using cached pydantic-2.11.5-py3-none-any.whl.metadata (67 kB)\n",
      "Collecting pydub (from gradio)\n",
      "  Using cached pydub-0.25.1-py2.py3-none-any.whl.metadata (1.4 kB)\n",
      "Collecting python-multipart>=0.0.18 (from gradio)\n",
      "  Using cached python_multipart-0.0.20-py3-none-any.whl.metadata (1.8 kB)\n",
      "Requirement already satisfied: pyyaml<7.0,>=5.0 in c:\\users\\windows\\appdata\\local\\programs\\python\\python312\\lib\\site-packages (from gradio) (6.0.2)\n",
      "Collecting ruff>=0.9.3 (from gradio)\n",
      "  Using cached ruff-0.11.12-py3-none-win_amd64.whl.metadata (26 kB)\n",
      "Collecting safehttpx<0.2.0,>=0.1.6 (from gradio)\n",
      "  Using cached safehttpx-0.1.6-py3-none-any.whl.metadata (4.2 kB)\n",
      "Collecting semantic-version~=2.0 (from gradio)\n",
      "  Using cached semantic_version-2.10.0-py2.py3-none-any.whl.metadata (9.7 kB)\n",
      "Collecting starlette<1.0,>=0.40.0 (from gradio)\n",
      "  Using cached starlette-0.47.0-py3-none-any.whl.metadata (6.2 kB)\n",
      "Collecting tomlkit<0.14.0,>=0.12.0 (from gradio)\n",
      "  Using cached tomlkit-0.13.2-py3-none-any.whl.metadata (2.7 kB)\n",
      "Collecting typer<1.0,>=0.12 (from gradio)\n",
      "  Using cached typer-0.16.0-py3-none-any.whl.metadata (15 kB)\n",
      "Requirement already satisfied: typing-extensions~=4.0 in c:\\users\\windows\\appdata\\local\\programs\\python\\python312\\lib\\site-packages (from gradio) (4.12.2)\n",
      "Collecting uvicorn>=0.14.0 (from gradio)\n",
      "  Using cached uvicorn-0.34.3-py3-none-any.whl.metadata (6.5 kB)\n",
      "Collecting fsspec (from gradio-client==1.10.2->gradio)\n",
      "  Using cached fsspec-2025.5.1-py3-none-any.whl.metadata (11 kB)\n",
      "Collecting websockets<16.0,>=10.0 (from gradio-client==1.10.2->gradio)\n",
      "  Downloading websockets-15.0.1-cp312-cp312-win_amd64.whl.metadata (7.0 kB)\n",
      "Requirement already satisfied: idna>=2.8 in c:\\users\\windows\\appdata\\local\\programs\\python\\python312\\lib\\site-packages (from anyio<5.0,>=3.0->gradio) (3.10)\n",
      "Requirement already satisfied: sniffio>=1.1 in c:\\users\\windows\\appdata\\local\\programs\\python\\python312\\lib\\site-packages (from anyio<5.0,>=3.0->gradio) (1.3.1)\n",
      "Collecting starlette<1.0,>=0.40.0 (from gradio)\n",
      "  Using cached starlette-0.46.2-py3-none-any.whl.metadata (6.2 kB)\n",
      "Requirement already satisfied: certifi in c:\\users\\windows\\appdata\\local\\programs\\python\\python312\\lib\\site-packages (from httpx>=0.24.1->gradio) (2024.8.30)\n",
      "Requirement already satisfied: httpcore==1.* in c:\\users\\windows\\appdata\\local\\programs\\python\\python312\\lib\\site-packages (from httpx>=0.24.1->gradio) (1.0.6)\n",
      "Requirement already satisfied: h11<0.15,>=0.13 in c:\\users\\windows\\appdata\\local\\programs\\python\\python312\\lib\\site-packages (from httpcore==1.*->httpx>=0.24.1->gradio) (0.14.0)\n",
      "Collecting filelock (from huggingface-hub>=0.28.1->gradio)\n",
      "  Using cached filelock-3.18.0-py3-none-any.whl.metadata (2.9 kB)\n",
      "Requirement already satisfied: requests in c:\\users\\windows\\appdata\\local\\programs\\python\\python312\\lib\\site-packages (from huggingface-hub>=0.28.1->gradio) (2.32.3)\n",
      "Requirement already satisfied: tqdm>=4.42.1 in c:\\users\\windows\\appdata\\local\\programs\\python\\python312\\lib\\site-packages (from huggingface-hub>=0.28.1->gradio) (4.67.1)\n",
      "Requirement already satisfied: python-dateutil>=2.8.2 in c:\\users\\windows\\appdata\\local\\programs\\python\\python312\\lib\\site-packages (from pandas<3.0,>=1.0->gradio) (2.9.0.post0)\n",
      "Requirement already satisfied: pytz>=2020.1 in c:\\users\\windows\\appdata\\local\\programs\\python\\python312\\lib\\site-packages (from pandas<3.0,>=1.0->gradio) (2024.2)\n",
      "Requirement already satisfied: tzdata>=2022.7 in c:\\users\\windows\\appdata\\local\\programs\\python\\python312\\lib\\site-packages (from pandas<3.0,>=1.0->gradio) (2024.2)\n",
      "Collecting annotated-types>=0.6.0 (from pydantic<2.12,>=2.0->gradio)\n",
      "  Using cached annotated_types-0.7.0-py3-none-any.whl.metadata (15 kB)\n",
      "Collecting pydantic-core==2.33.2 (from pydantic<2.12,>=2.0->gradio)\n",
      "  Downloading pydantic_core-2.33.2-cp312-cp312-win_amd64.whl.metadata (6.9 kB)\n",
      "Collecting typing-inspection>=0.4.0 (from pydantic<2.12,>=2.0->gradio)\n",
      "  Using cached typing_inspection-0.4.1-py3-none-any.whl.metadata (2.6 kB)\n",
      "Requirement already satisfied: click>=8.0.0 in c:\\users\\windows\\appdata\\local\\programs\\python\\python312\\lib\\site-packages (from typer<1.0,>=0.12->gradio) (8.1.8)\n",
      "Collecting shellingham>=1.3.0 (from typer<1.0,>=0.12->gradio)\n",
      "  Using cached shellingham-1.5.4-py2.py3-none-any.whl.metadata (3.5 kB)\n",
      "Collecting rich>=10.11.0 (from typer<1.0,>=0.12->gradio)\n",
      "  Using cached rich-14.0.0-py3-none-any.whl.metadata (18 kB)\n",
      "Requirement already satisfied: colorama in c:\\users\\windows\\appdata\\local\\programs\\python\\python312\\lib\\site-packages (from click>=8.0.0->typer<1.0,>=0.12->gradio) (0.4.6)\n",
      "Requirement already satisfied: six>=1.5 in c:\\users\\windows\\appdata\\local\\programs\\python\\python312\\lib\\site-packages (from python-dateutil>=2.8.2->pandas<3.0,>=1.0->gradio) (1.16.0)\n",
      "Collecting markdown-it-py>=2.2.0 (from rich>=10.11.0->typer<1.0,>=0.12->gradio)\n",
      "  Using cached markdown_it_py-3.0.0-py3-none-any.whl.metadata (6.9 kB)\n",
      "Requirement already satisfied: pygments<3.0.0,>=2.13.0 in c:\\users\\windows\\appdata\\local\\programs\\python\\python312\\lib\\site-packages (from rich>=10.11.0->typer<1.0,>=0.12->gradio) (2.18.0)\n",
      "Requirement already satisfied: charset-normalizer<4,>=2 in c:\\users\\windows\\appdata\\local\\programs\\python\\python312\\lib\\site-packages (from requests->huggingface-hub>=0.28.1->gradio) (3.3.2)\n",
      "Requirement already satisfied: urllib3<3,>=1.21.1 in c:\\users\\windows\\appdata\\local\\programs\\python\\python312\\lib\\site-packages (from requests->huggingface-hub>=0.28.1->gradio) (2.2.3)\n",
      "Collecting mdurl~=0.1 (from markdown-it-py>=2.2.0->rich>=10.11.0->typer<1.0,>=0.12->gradio)\n",
      "  Using cached mdurl-0.1.2-py3-none-any.whl.metadata (1.6 kB)\n",
      "Using cached gradio-5.32.1-py3-none-any.whl (54.2 MB)\n",
      "Using cached gradio_client-1.10.2-py3-none-any.whl (323 kB)\n",
      "Using cached aiofiles-24.1.0-py3-none-any.whl (15 kB)\n",
      "Using cached fastapi-0.115.12-py3-none-any.whl (95 kB)\n",
      "Using cached groovy-0.1.2-py3-none-any.whl (14 kB)\n",
      "Using cached huggingface_hub-0.32.3-py3-none-any.whl (512 kB)\n",
      "Downloading orjson-3.10.18-cp312-cp312-win_amd64.whl (134 kB)\n",
      "Using cached pydantic-2.11.5-py3-none-any.whl (444 kB)\n",
      "Downloading pydantic_core-2.33.2-cp312-cp312-win_amd64.whl (2.0 MB)\n",
      "   ---------------------------------------- 0.0/2.0 MB ? eta -:--:--\n",
      "   ----- ---------------------------------- 0.3/2.0 MB ? eta -:--:--\n",
      "   ---------- ----------------------------- 0.5/2.0 MB 1.7 MB/s eta 0:00:01\n",
      "   ---------------- ----------------------- 0.8/2.0 MB 1.6 MB/s eta 0:00:01\n",
      "   -------------------------- ------------- 1.3/2.0 MB 1.7 MB/s eta 0:00:01\n",
      "   -------------------------------- ------- 1.6/2.0 MB 1.7 MB/s eta 0:00:01\n",
      "   ---------------------------------------- 2.0/2.0 MB 1.8 MB/s eta 0:00:00\n",
      "Using cached python_multipart-0.0.20-py3-none-any.whl (24 kB)\n",
      "Using cached ruff-0.11.12-py3-none-win_amd64.whl (11.5 MB)\n",
      "Using cached safehttpx-0.1.6-py3-none-any.whl (8.7 kB)\n",
      "Using cached semantic_version-2.10.0-py2.py3-none-any.whl (15 kB)\n",
      "Using cached starlette-0.46.2-py3-none-any.whl (72 kB)\n",
      "Using cached tomlkit-0.13.2-py3-none-any.whl (37 kB)\n",
      "Using cached typer-0.16.0-py3-none-any.whl (46 kB)\n",
      "Using cached uvicorn-0.34.3-py3-none-any.whl (62 kB)\n",
      "Using cached ffmpy-0.6.0-py3-none-any.whl (5.5 kB)\n",
      "Using cached pydub-0.25.1-py2.py3-none-any.whl (32 kB)\n",
      "Using cached annotated_types-0.7.0-py3-none-any.whl (13 kB)\n",
      "Using cached fsspec-2025.5.1-py3-none-any.whl (199 kB)\n",
      "Using cached rich-14.0.0-py3-none-any.whl (243 kB)\n",
      "Using cached shellingham-1.5.4-py2.py3-none-any.whl (9.8 kB)\n",
      "Using cached typing_inspection-0.4.1-py3-none-any.whl (14 kB)\n",
      "Downloading websockets-15.0.1-cp312-cp312-win_amd64.whl (176 kB)\n",
      "Using cached filelock-3.18.0-py3-none-any.whl (16 kB)\n",
      "Using cached markdown_it_py-3.0.0-py3-none-any.whl (87 kB)\n",
      "Using cached mdurl-0.1.2-py3-none-any.whl (10.0 kB)\n",
      "Installing collected packages: pydub, websockets, typing-inspection, tomlkit, shellingham, semantic-version, ruff, python-multipart, pydantic-core, orjson, mdurl, groovy, fsspec, filelock, ffmpy, annotated-types, aiofiles, uvicorn, starlette, pydantic, markdown-it-py, huggingface-hub, safehttpx, rich, gradio-client, fastapi, typer, gradio\n",
      "Successfully installed aiofiles-24.1.0 annotated-types-0.7.0 fastapi-0.115.12 ffmpy-0.6.0 filelock-3.18.0 fsspec-2025.5.1 gradio-5.32.1 gradio-client-1.10.2 groovy-0.1.2 huggingface-hub-0.32.3 markdown-it-py-3.0.0 mdurl-0.1.2 orjson-3.10.18 pydantic-2.11.5 pydantic-core-2.33.2 pydub-0.25.1 python-multipart-0.0.20 rich-14.0.0 ruff-0.11.12 safehttpx-0.1.6 semantic-version-2.10.0 shellingham-1.5.4 starlette-0.46.2 tomlkit-0.13.2 typer-0.16.0 typing-inspection-0.4.1 uvicorn-0.34.3 websockets-15.0.1\n",
      "Note: you may need to restart the kernel to use updated packages.\n"
     ]
    },
    {
     "name": "stderr",
     "output_type": "stream",
     "text": [
      "\n",
      "[notice] A new release of pip is available: 24.2 -> 25.1.1\n",
      "[notice] To update, run: python.exe -m pip install --upgrade pip\n"
     ]
    }
   ],
   "source": [
    "pip install gradio"
   ]
  },
  {
   "cell_type": "code",
   "execution_count": 37,
   "id": "2c751edc",
   "metadata": {},
   "outputs": [
    {
     "name": "stdout",
     "output_type": "stream",
     "text": [
      "✅ Modelo y encoders cargados con éxito.\n"
     ]
    }
   ],
   "source": [
    "import joblib\n",
    "\n",
    "# Intentamos cargar el modelo y los encoders con joblib\n",
    "try:\n",
    "    modelo = joblib.load('modelo_entrenado.pkl')\n",
    "    encoders = joblib.load('encoders.pkl')\n",
    "    print(\"✅ Modelo y encoders cargados con éxito.\")\n",
    "except Exception as e:\n",
    "    print(\"❌ Error al cargar los archivos:\")\n",
    "    print(e)"
   ]
  },
  {
   "cell_type": "code",
   "execution_count": 40,
   "id": "b144b1e6",
   "metadata": {},
   "outputs": [
    {
     "name": "stdout",
     "output_type": "stream",
     "text": [
      "* Running on local URL:  http://127.0.0.1:7869\n",
      "\n",
      "Could not create share link. Please check your internet connection or our status page: https://status.gradio.app.\n"
     ]
    },
    {
     "data": {
      "text/html": [
       "<div><iframe src=\"http://127.0.0.1:7869/\" width=\"100%\" height=\"500\" allow=\"autoplay; camera; microphone; clipboard-read; clipboard-write;\" frameborder=\"0\" allowfullscreen></iframe></div>"
      ],
      "text/plain": [
       "<IPython.core.display.HTML object>"
      ]
     },
     "metadata": {},
     "output_type": "display_data"
    },
    {
     "data": {
      "text/plain": []
     },
     "execution_count": 40,
     "metadata": {},
     "output_type": "execute_result"
    },
    {
     "name": "stderr",
     "output_type": "stream",
     "text": [
      "c:\\Users\\Windows\\AppData\\Local\\Programs\\Python\\Python312\\Lib\\site-packages\\sklearn\\utils\\validation.py:2739: UserWarning: X does not have valid feature names, but RandomForestClassifier was fitted with feature names\n",
      "  warnings.warn(\n",
      "c:\\Users\\Windows\\AppData\\Local\\Programs\\Python\\Python312\\Lib\\site-packages\\sklearn\\utils\\validation.py:2739: UserWarning: X does not have valid feature names, but RandomForestClassifier was fitted with feature names\n",
      "  warnings.warn(\n",
      "c:\\Users\\Windows\\AppData\\Local\\Programs\\Python\\Python312\\Lib\\site-packages\\sklearn\\utils\\validation.py:2739: UserWarning: X does not have valid feature names, but RandomForestClassifier was fitted with feature names\n",
      "  warnings.warn(\n"
     ]
    }
   ],
   "source": [
    "import gradio as gr\n",
    "import numpy as np\n",
    "\n",
    "def predecir_matricula(edad, genero, nivel_educativo, ingresos_mensuales,\n",
    "                       ocupacion, interes_tema, uso_tecnologia, horas_disponibles,\n",
    "                       promociones_recibidas):\n",
    "    try:\n",
    "        # Codificar variables categóricas con LabelEncoder\n",
    "        genero_encoded = encoders['genero'].transform([genero])[0]\n",
    "        nivel_encoded = encoders['nivel_educativo'].transform([nivel_educativo])[0]\n",
    "        ocupacion_encoded = encoders['ocupacion'].transform([ocupacion])[0]\n",
    "\n",
    "        # Construir vector en el orden correcto\n",
    "        X = [[\n",
    "            edad,\n",
    "            genero_encoded,\n",
    "            nivel_encoded,\n",
    "            ingresos_mensuales,\n",
    "            ocupacion_encoded,\n",
    "            interes_tema,\n",
    "            uso_tecnologia,\n",
    "            horas_disponibles,\n",
    "            promociones_recibidas\n",
    "        ]]\n",
    "\n",
    "        # Predicción\n",
    "        pred = modelo.predict(X)[0]\n",
    "        return f\"✅ Predicción: {pred}\"\n",
    "\n",
    "    except Exception as e:\n",
    "        return f\"❌ Error en la predicción: {e}\"\n",
    "\n",
    "\n",
    "# Obtener listas de clases desde los LabelEncoders\n",
    "generos = encoders['genero'].classes_.tolist()\n",
    "niveles_educativos = encoders['nivel_educativo'].classes_.tolist()\n",
    "ocupaciones = encoders['ocupacion'].classes_.tolist()\n",
    "\n",
    "# Crear interfaz Gradio\n",
    "iface = gr.Interface(\n",
    "    fn=predecir_matricula,\n",
    "    inputs=[\n",
    "        gr.Number(label=\"Edad\"),\n",
    "        gr.Dropdown(choices=generos, label=\"Género\"),\n",
    "        gr.Dropdown(choices=niveles_educativos, label=\"Nivel educativo\"),\n",
    "        gr.Number(label=\"Ingresos mensuales\"),\n",
    "        gr.Dropdown(choices=ocupaciones, label=\"Ocupación\"),\n",
    "        gr.Slider(0, 5, step=1, label=\"Interés en el tema\"),\n",
    "        gr.Slider(0, 5, step=1, label=\"Uso de tecnología\"),\n",
    "        gr.Slider(0, 24, step=1, label=\"Horas disponibles\"),\n",
    "        gr.Slider(0, 20, step=1, label=\"Promociones recibidas\"),\n",
    "    ],\n",
    "    outputs=\"text\",\n",
    "    title=\"Predicción de Matrícula\",\n",
    "    description=\"Ingresa los datos del estudiante para predecir si se matriculará (0 = No, 1 = Sí).\"\n",
    ")\n",
    "\n",
    "iface.launch(share=True)\n"
   ]
  }
 ],
 "metadata": {
  "kernelspec": {
   "display_name": "Python 3",
   "language": "python",
   "name": "python3"
  },
  "language_info": {
   "codemirror_mode": {
    "name": "ipython",
    "version": 3
   },
   "file_extension": ".py",
   "mimetype": "text/x-python",
   "name": "python",
   "nbconvert_exporter": "python",
   "pygments_lexer": "ipython3",
   "version": "3.12.6"
  }
 },
 "nbformat": 4,
 "nbformat_minor": 5
}
